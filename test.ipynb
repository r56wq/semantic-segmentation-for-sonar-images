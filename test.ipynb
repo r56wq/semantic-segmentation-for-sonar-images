{
 "cells": [
  {
   "cell_type": "code",
   "execution_count": 7,
   "metadata": {},
   "outputs": [],
   "source": [
    "from datasets.seg_dataset import load_voc\n",
    "import torch\n",
    "colormap = [[0, 0, 0], [250, 50, 83], [51, 221, 255]]\n",
    "load_type = \"testing\"\n",
    "it = load_voc(\"D:\\semantic-segmentation-for-sonar-images\\datasets\", colormap, load_type, batch_size=8)"
   ]
  },
  {
   "cell_type": "code",
   "execution_count": 13,
   "metadata": {},
   "outputs": [
    {
     "name": "stdout",
     "output_type": "stream",
     "text": [
      "5\n",
      "torch.Size([8, 3, 500, 1000])\n",
      "torch.Size([8, 500, 1000])\n",
      "torch.Size([8, 3, 500, 1000])\n",
      "torch.Size([8, 500, 1000])\n",
      "torch.Size([8, 3, 500, 1000])\n",
      "torch.Size([8, 500, 1000])\n",
      "torch.Size([8, 3, 500, 1000])\n",
      "torch.Size([8, 500, 1000])\n",
      "torch.Size([8, 3, 500, 1000])\n",
      "torch.Size([8, 500, 1000])\n"
     ]
    }
   ],
   "source": [
    "print(len(it))\n",
    "for i in it:\n",
    "    print(i[0].shape)\n",
    "    print(i[1].shape)"
   ]
  },
  {
   "cell_type": "code",
   "execution_count": null,
   "metadata": {},
   "outputs": [],
   "source": []
  }
 ],
 "metadata": {
  "kernelspec": {
   "display_name": "DL",
   "language": "python",
   "name": "python3"
  },
  "language_info": {
   "codemirror_mode": {
    "name": "ipython",
    "version": 3
   },
   "file_extension": ".py",
   "mimetype": "text/x-python",
   "name": "python",
   "nbconvert_exporter": "python",
   "pygments_lexer": "ipython3",
   "version": "3.11.8"
  }
 },
 "nbformat": 4,
 "nbformat_minor": 2
}
